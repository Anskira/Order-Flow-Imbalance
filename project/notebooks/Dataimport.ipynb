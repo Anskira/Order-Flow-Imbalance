{
 "cells": [
  {
   "cell_type": "code",
   "execution_count": 3,
   "id": "67c8d8a9-5a75-42a0-9f47-f20ecb841d85",
   "metadata": {
    "tags": []
   },
   "outputs": [],
   "source": [
    "# pip install databento"
   ]
  },
  {
   "cell_type": "code",
   "execution_count": 5,
   "id": "Your_Api_Key",
   "metadata": {
    "tags": []
   },
   "outputs": [],
   "source": [
    "import databento as db\n",
    "import pandas as pd\n",
    "from datetime import datetime, timedelta\n",
    "import warnings\n",
    "import os\n",
    "\n",
    "warnings.filterwarnings('ignore')"
   ]
  },
  {
   "cell_type": "code",
   "execution_count": 3,
   "id": "b8a00930-6d19-46a4-8c8f-1fa2fa66f8ec",
   "metadata": {
    "tags": []
   },
   "outputs": [],
   "source": [
    "# Initialize the client with your API key\n",
    "api_key = \"db-SsrRd7PSWsqBSEvbp7bQS9tpMupxB\"\n",
    "client = db.Historical(api_key)"
   ]
  },
  {
   "cell_type": "code",
   "execution_count": 8,
   "id": "368acab9-4bb3-444b-85a3-b82c98075fac",
   "metadata": {
    "tags": []
   },
   "outputs": [],
   "source": [
    "symbols=['AAPL', 'AMGN', \"TSLA\", \"JPM\", \"XOM\"]\n",
    "dataset = \"XNAS.ITCH\"  # Dataset name\n",
    "schema = \"MBP-10\"                  # Market by Price, 10 levels\n",
    "start_date = \"2024-12-02\"          # Example start date\n",
    "end_date = \"2024-12-08\"  \n",
    "output_dir = \"order_book_csvs\"\n",
    "os.makedirs(output_dir, exist_ok=True)\n"
   ]
  },
  {
   "cell_type": "code",
   "execution_count": null,
   "id": "d118a1ff-a2ef-4742-8554-3973dacb826b",
   "metadata": {
    "tags": []
   },
   "outputs": [
    {
     "name": "stdout",
     "output_type": "stream",
     "text": [
      "Fetching data for AAPL...\n"
     ]
    }
   ],
   "source": [
    "for symbol in symbols:\n",
    "    print(f\"Fetching data for {symbol}...\")\n",
    "    try:\n",
    "        # Fetch data\n",
    "        data = client.timeseries.get_range(\n",
    "            dataset=dataset,\n",
    "            schema=schema,\n",
    "            symbols=[symbol],\n",
    "            start=start_date,\n",
    "            end=end_date,\n",
    "        )\n",
    "        # Convert to Pandas DataFrame\n",
    "        df = data.to_df()\n",
    "        \n",
    "        # Save to CSV\n",
    "        file_path = os.path.join(output_dir, f\"{symbol}_data.csv\")\n",
    "        df.to_csv(file_path, index=False)\n",
    "        print(f\"Data for {symbol} saved to {file_path}.\")\n",
    "    except Exception as e:\n",
    "        print(f\"Error fetching data for {symbol}: {e}\")\n",
    "\n",
    "print(\"Data fetching and saving completed.\")"
   ]
  },
  {
   "cell_type": "code",
   "execution_count": null,
   "id": "aefee096-043c-4627-aabd-71ad1d0562f2",
   "metadata": {},
   "outputs": [],
   "source": []
  }
 ],
 "metadata": {
  "kernelspec": {
   "display_name": "Python 3 (ipykernel)",
   "language": "python",
   "name": "python3"
  },
  "language_info": {
   "codemirror_mode": {
    "name": "ipython",
    "version": 3
   },
   "file_extension": ".py",
   "mimetype": "text/x-python",
   "name": "python",
   "nbconvert_exporter": "python",
   "pygments_lexer": "ipython3",
   "version": "3.10.12"
  }
 },
 "nbformat": 4,
 "nbformat_minor": 5
}
